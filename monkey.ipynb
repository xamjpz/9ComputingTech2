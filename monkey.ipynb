{
 "cells": [
  {
   "attachments": {},
   "cell_type": "markdown",
   "metadata": {},
   "source": [
    "# Test 1\n",
    "\n",
    "The first test I just wanted to figure out the basic measurements so I put very broad numbers."
   ]
  },
  {
   "cell_type": "code",
   "execution_count": null,
   "metadata": {},
   "outputs": [],
   "source": [
    "robot.turn(20)\n",
    "robot.straight(450)\n",
    "robot.turn(90)\n",
    "robot.straight(400)\n",
    "robot.turn(120)\n",
    "robot.straight(600)\n",
    "robot.straight(-200)\n",
    "robot.turn(20)\n",
    "robot.straight(20)\n",
    "robot.turn(20)\n",
    "robot.straight(20)\n",
    "robot.turn(20)\n",
    "robot.straight(20)\n",
    "robot.turn(20)\n",
    "robot.straight(20)\n",
    "robot.turn(20)\n",
    "robot.straight(20)"
   ]
  },
  {
   "attachments": {},
   "cell_type": "markdown",
   "metadata": {},
   "source": [
    "# Test 2\n",
    "\n",
    "The second test I had a rough idea of how the robot moves and how it turns and how much space I had so I changed the steps."
   ]
  },
  {
   "cell_type": "code",
   "execution_count": null,
   "metadata": {},
   "outputs": [],
   "source": [
    "print(\"hello world\")"
   ]
  },
  {
   "attachments": {},
   "cell_type": "markdown",
   "metadata": {},
   "source": [
    "# Test 3\n",
    "\n",
    "The third test I changed how the robot itself was placed and the measurements."
   ]
  },
  {
   "cell_type": "code",
   "execution_count": null,
   "metadata": {},
   "outputs": [],
   "source": []
  },
  {
   "attachments": {},
   "cell_type": "markdown",
   "metadata": {},
   "source": [
    "# Test 4\n",
    "\n",
    "The fourth test I changed the measurements again."
   ]
  },
  {
   "cell_type": "code",
   "execution_count": null,
   "metadata": {},
   "outputs": [],
   "source": []
  },
  {
   "attachments": {},
   "cell_type": "markdown",
   "metadata": {},
   "source": [
    "# Final test\n",
    "\n",
    "The fifth test I finally changed the measurements and it was all good. "
   ]
  },
  {
   "cell_type": "code",
   "execution_count": null,
   "metadata": {},
   "outputs": [],
   "source": []
  }
 ],
 "metadata": {
  "language_info": {
   "name": "python"
  },
  "orig_nbformat": 4
 },
 "nbformat": 4,
 "nbformat_minor": 2
}
